{
  "nbformat": 4,
  "nbformat_minor": 0,
  "metadata": {
    "colab": {
      "provenance": [],
      "include_colab_link": true
    },
    "kernelspec": {
      "name": "python3",
      "display_name": "Python 3"
    },
    "language_info": {
      "name": "python"
    }
  },
  "cells": [
    {
      "cell_type": "markdown",
      "metadata": {
        "id": "view-in-github",
        "colab_type": "text"
      },
      "source": [
        "<a href=\"https://colab.research.google.com/github/seoljae/MyMajor/blob/main/11Untitled.ipynb\" target=\"_parent\"><img src=\"https://colab.research.google.com/assets/colab-badge.svg\" alt=\"Open In Colab\"/></a>"
      ]
    },
    {
      "cell_type": "code",
      "execution_count": null,
      "metadata": {
        "id": "BlQbePppXozl"
      },
      "outputs": [],
      "source": []
    },
    {
      "cell_type": "markdown",
      "source": [
        "# 🎓**Introduction to <font color = 'green'>major**\n",
        "\n",
        "📌 한남대학교 경제학과 홈페이지 [클릭](https://enc.hannam.ac.kr/)"
      ],
      "metadata": {
        "id": "bjKGRoq2YA8q"
      }
    },
    {
      "cell_type": "markdown",
      "source": [
        "# **MyMajor**\n",
        "##**Department of Economics <font color = 'navy'>(경제학과)**💰💸\n",
        "\n",
        "### **1. Useful References**📋\n",
        "\n",
        "  **Department of Economics homepage**\n",
        "\n",
        "- [Hannam University](https://www.hannam.ac.kr/kor/educate/educate_0104_04.html)\n",
        "\n",
        "- [Career Net](https://www.career.go.kr/cnet/front/base/major/FunivMajorView.do?SEQ=25#tab1)\n",
        "\n",
        "- [Namu.Wiki](https://namu.wiki/w/%EA%B2%BD%EC%A0%9C%ED%95%99%EA%B3%BC)\n",
        "\n",
        "### **2. Main subjects**⏰\n",
        "\n",
        "- [거시경제학](https://terms.naver.com/entry.naver?docId=1058392&cid=40942&categoryId=31816)\n",
        "\n",
        "- [게임이론](https://terms.naver.com/entry.naver?docId=3570890&cid=58780&categoryId=58780)\n",
        "\n",
        "- [재정학](https://terms.naver.com/entry.naver?docId=1138928&cid=40942&categoryId=31836)\n",
        "\n",
        "- [미시경제학](https://terms.naver.com/entry.naver?docId=1096456&cid=40942&categoryId=31819)\n",
        "\n",
        "### **3. Related occupation**✒️\n",
        "- [researcher](https://www.career.go.kr/cnet/front/base/job/jobView.do?SEQ=203)\n",
        "[Tax Accountant]\n",
        "\n",
        "\n",
        "\n",
        "\n",
        "\n",
        "\n"
      ],
      "metadata": {
        "id": "FYR5z8wgYBZx"
      }
    }
  ]
}